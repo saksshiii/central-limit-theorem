{
 "cells": [
  {
   "cell_type": "markdown",
   "id": "f4ee4b72",
   "metadata": {},
   "source": [
    "## Import Libraries"
   ]
  },
  {
   "cell_type": "code",
   "execution_count": 22,
   "id": "822f6b39",
   "metadata": {},
   "outputs": [],
   "source": [
    "import pandas as pd\n",
    "import matplotlib.pyplot as plt\n",
    "import numpy as np\n",
    "import statistics"
   ]
  },
  {
   "cell_type": "markdown",
   "id": "0f6e8430",
   "metadata": {},
   "source": [
    "## Load Data"
   ]
  },
  {
   "cell_type": "code",
   "execution_count": 23,
   "id": "b6a798d9",
   "metadata": {},
   "outputs": [],
   "source": [
    "data=pd.read_csv(\"D:\\Dataset/SOCR-HeightWeight.csv\")"
   ]
  },
  {
   "cell_type": "code",
   "execution_count": 24,
   "id": "3de372e2",
   "metadata": {},
   "outputs": [
    {
     "data": {
      "text/html": [
       "<div>\n",
       "<style scoped>\n",
       "    .dataframe tbody tr th:only-of-type {\n",
       "        vertical-align: middle;\n",
       "    }\n",
       "\n",
       "    .dataframe tbody tr th {\n",
       "        vertical-align: top;\n",
       "    }\n",
       "\n",
       "    .dataframe thead th {\n",
       "        text-align: right;\n",
       "    }\n",
       "</style>\n",
       "<table border=\"1\" class=\"dataframe\">\n",
       "  <thead>\n",
       "    <tr style=\"text-align: right;\">\n",
       "      <th></th>\n",
       "      <th>Index</th>\n",
       "      <th>Height(Inches)</th>\n",
       "      <th>Weight(Pounds)</th>\n",
       "    </tr>\n",
       "  </thead>\n",
       "  <tbody>\n",
       "    <tr>\n",
       "      <th>0</th>\n",
       "      <td>1</td>\n",
       "      <td>65.78331</td>\n",
       "      <td>112.9925</td>\n",
       "    </tr>\n",
       "    <tr>\n",
       "      <th>1</th>\n",
       "      <td>2</td>\n",
       "      <td>71.51521</td>\n",
       "      <td>136.4873</td>\n",
       "    </tr>\n",
       "    <tr>\n",
       "      <th>2</th>\n",
       "      <td>3</td>\n",
       "      <td>69.39874</td>\n",
       "      <td>153.0269</td>\n",
       "    </tr>\n",
       "    <tr>\n",
       "      <th>3</th>\n",
       "      <td>4</td>\n",
       "      <td>68.21660</td>\n",
       "      <td>142.3354</td>\n",
       "    </tr>\n",
       "    <tr>\n",
       "      <th>4</th>\n",
       "      <td>5</td>\n",
       "      <td>67.78781</td>\n",
       "      <td>144.2971</td>\n",
       "    </tr>\n",
       "    <tr>\n",
       "      <th>...</th>\n",
       "      <td>...</td>\n",
       "      <td>...</td>\n",
       "      <td>...</td>\n",
       "    </tr>\n",
       "    <tr>\n",
       "      <th>24995</th>\n",
       "      <td>24996</td>\n",
       "      <td>69.50215</td>\n",
       "      <td>118.0312</td>\n",
       "    </tr>\n",
       "    <tr>\n",
       "      <th>24996</th>\n",
       "      <td>24997</td>\n",
       "      <td>64.54826</td>\n",
       "      <td>120.1932</td>\n",
       "    </tr>\n",
       "    <tr>\n",
       "      <th>24997</th>\n",
       "      <td>24998</td>\n",
       "      <td>64.69855</td>\n",
       "      <td>118.2655</td>\n",
       "    </tr>\n",
       "    <tr>\n",
       "      <th>24998</th>\n",
       "      <td>24999</td>\n",
       "      <td>67.52918</td>\n",
       "      <td>132.2682</td>\n",
       "    </tr>\n",
       "    <tr>\n",
       "      <th>24999</th>\n",
       "      <td>25000</td>\n",
       "      <td>68.87761</td>\n",
       "      <td>124.8742</td>\n",
       "    </tr>\n",
       "  </tbody>\n",
       "</table>\n",
       "<p>25000 rows × 3 columns</p>\n",
       "</div>"
      ],
      "text/plain": [
       "       Index  Height(Inches)  Weight(Pounds)\n",
       "0          1        65.78331        112.9925\n",
       "1          2        71.51521        136.4873\n",
       "2          3        69.39874        153.0269\n",
       "3          4        68.21660        142.3354\n",
       "4          5        67.78781        144.2971\n",
       "...      ...             ...             ...\n",
       "24995  24996        69.50215        118.0312\n",
       "24996  24997        64.54826        120.1932\n",
       "24997  24998        64.69855        118.2655\n",
       "24998  24999        67.52918        132.2682\n",
       "24999  25000        68.87761        124.8742\n",
       "\n",
       "[25000 rows x 3 columns]"
      ]
     },
     "execution_count": 24,
     "metadata": {},
     "output_type": "execute_result"
    }
   ],
   "source": [
    "data"
   ]
  },
  {
   "cell_type": "markdown",
   "id": "b6062be2",
   "metadata": {},
   "source": [
    "## Plot given data"
   ]
  },
  {
   "cell_type": "code",
   "execution_count": 34,
   "id": "6404e454",
   "metadata": {},
   "outputs": [
    {
     "data": {
      "image/png": "[encoded data removed]",
      "text/plain": [
       "<Figure size 432x288 with 1 Axes>"
      ]
     },
     "metadata": {
      "needs_background": "light"
     },
     "output_type": "display_data"
    }
   ],
   "source": [
    "plt.hist(data[\"Height(Inches)\"],bins=50)\n",
    "plt.title(\"Histrogram of data\")\n",
    "plt.xlabel(\"value\")\n",
    "plt.ylabel(\"frequency\")\n",
    "plt.show()"
   ]
  },
  {
   "cell_type": "markdown",
   "id": "fe874657",
   "metadata": {},
   "source": [
    "## Find mean and standard deviation"
   ]
  },
  {
   "cell_type": "code",
   "execution_count": 26,
   "id": "2405ab51",
   "metadata": {},
   "outputs": [
    {
     "name": "stdout",
     "output_type": "stream",
     "text": [
      "Mean: Index             12500.500000\n",
      "Height(Inches)       67.993114\n",
      "Weight(Pounds)      127.079421\n",
      "dtype: float64\n",
      "Standard Deviation: Index             7216.878359\n",
      "Height(Inches)       1.901641\n",
      "Weight(Pounds)      11.660664\n",
      "dtype: float64\n"
     ]
    }
   ],
   "source": [
    "mean_data=np.mean(data)\n",
    "std_dev_data=np.std(data)\n",
    "print(\"Mean:\",mean_data)\n",
    "print(\"Standard Deviation:\",std_dev_data)"
   ]
  },
  {
   "cell_type": "markdown",
   "id": "e2b83076",
   "metadata": {},
   "source": [
    "## Choose a sample of size n and find its mean"
   ]
  },
  {
   "cell_type": "code",
   "execution_count": 27,
   "id": "43a69299",
   "metadata": {},
   "outputs": [
    {
     "name": "stdout",
     "output_type": "stream",
     "text": [
      "Sample Mean (n = 100 ): 4891.868887299999\n"
     ]
    }
   ],
   "source": [
    "n = 100\n",
    "\n",
    "\n",
    "# Flatten the data array if it's multi-dimensional\n",
    "# Convert DataFrame to numpy array and flatten it\n",
    "data_flat = data.to_numpy().flatten()\n",
    "\n",
    "# Generate a random sample of size n from the flattened data array\n",
    "sample = np.random.choice(data_flat, n)\n",
    "\n",
    "# Calculate the sample mean\n",
    "sample_mean = np.mean(sample)\n",
    "\n",
    "print(\"Sample Mean (n =\", n, \"):\", sample_mean)"
   ]
  },
  {
   "cell_type": "markdown",
   "id": "48aee1f2",
   "metadata": {},
   "source": [
    "## Verify Central Limit Theorem"
   ]
  },
  {
   "cell_type": "code",
   "execution_count": 46,
   "id": "8162a481",
   "metadata": {},
   "outputs": [
    {
     "data": {
      "image/png": "[encoded data removed]",
      "text/plain": [
       "<Figure size 432x288 with 1 Axes>"
      ]
     },
     "metadata": {
      "needs_background": "light"
     },
     "output_type": "display_data"
    }
   ],
   "source": [
    "n=100\n",
    "sample_means=[]\n",
    "for _ in range(1000):\n",
    "    sample=np.random.choice(data[\"Height(Inches)\"],n)\n",
    "    mu=np.mean(sample)\n",
    "    sample_means.append(mu)\n",
    "    \n",
    "plt.hist(sample_means,bins=50)\n",
    "plt.title(\"\")\n",
    "plt.xlabel(\"Sample mean\")\n",
    "plt.ylabel(\"frequency\")\n",
    "plt.show()\n",
    "    "
   ]
  },
  {
   "cell_type": "markdown",
   "id": "fef8b628",
   "metadata": {},
   "source": [
    "## Find mean and standard deviation of sample means"
   ]
  },
  {
   "cell_type": "code",
   "execution_count": 29,
   "id": "f265e716",
   "metadata": {},
   "outputs": [
    {
     "name": "stdout",
     "output_type": "stream",
     "text": [
      "Mean of sample means: -0.08203847019756427\n",
      "Standard deviation of samplemeans: 0.37370691992963356\n"
     ]
    }
   ],
   "source": [
    "mean_sample_means=np.mean(sample_means)\n",
    "std_dev_sample_means=np.std(sample_means)\n",
    "\n",
    "print(\"Mean of sample means:\", mean_sample_means)\n",
    "print(\"Standard deviation of samplemeans:\", std_dev_sample_means)"
   ]
  },
  {
   "cell_type": "code",
   "execution_count": null,
   "id": "b2967d91",
   "metadata": {},
   "outputs": [],
   "source": []
  }
 ],
 "metadata": {
  "kernelspec": {
   "display_name": "Python 3",
   "language": "python",
   "name": "python3"
  },
  "language_info": {
   "codemirror_mode": {
    "name": "ipython",
    "version": 3
   },
   "file_extension": ".py",
   "mimetype": "text/x-python",
   "name": "python",
   "nbconvert_exporter": "python",
   "pygments_lexer": "ipython3",
   "version": "3.8.8"
  }
 },
 "nbformat": 4,
 "nbformat_minor": 5
}
